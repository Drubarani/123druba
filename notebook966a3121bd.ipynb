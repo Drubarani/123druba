{
 "cells": [
  {
   "cell_type": "code",
   "execution_count": 1,
   "id": "2b8862bb",
   "metadata": {
    "_cell_guid": "b1076dfc-b9ad-4769-8c92-a6c4dae69d19",
    "_uuid": "8f2839f25d086af736a60e9eeb907d3b93b6e0e5",
    "execution": {
     "iopub.execute_input": "2024-11-21T10:26:12.519226Z",
     "iopub.status.busy": "2024-11-21T10:26:12.518810Z",
     "iopub.status.idle": "2024-11-21T10:26:12.530847Z",
     "shell.execute_reply": "2024-11-21T10:26:12.529519Z"
    },
    "papermill": {
     "duration": 0.018272,
     "end_time": "2024-11-21T10:26:12.533247",
     "exception": false,
     "start_time": "2024-11-21T10:26:12.514975",
     "status": "completed"
    },
    "tags": []
   },
   "outputs": [
    {
     "name": "stdout",
     "output_type": "stream",
     "text": [
      "15\n"
     ]
    }
   ],
   "source": [
    "# Python program to \n",
    "# compute sum of digits in  \n",
    "# number. \n",
    "  \n",
    "# Function to get sum of digits  \n",
    "def getSum(n): \n",
    "   \n",
    "    sum = 0\n",
    "    for digit in str(n):  \n",
    "      sum += int(digit)       \n",
    "    return sum\n",
    "  \n",
    "n = 12345\n",
    "print(getSum(n))"
   ]
  },
  {
   "cell_type": "code",
   "execution_count": null,
   "id": "0cdb209e",
   "metadata": {
    "papermill": {
     "duration": 0.001385,
     "end_time": "2024-11-21T10:26:12.536444",
     "exception": false,
     "start_time": "2024-11-21T10:26:12.535059",
     "status": "completed"
    },
    "tags": []
   },
   "outputs": [],
   "source": []
  }
 ],
 "metadata": {
  "kaggle": {
   "accelerator": "none",
   "dataSources": [],
   "dockerImageVersionId": 30786,
   "isGpuEnabled": false,
   "isInternetEnabled": false,
   "language": "python",
   "sourceType": "notebook"
  },
  "kernelspec": {
   "display_name": "Python 3",
   "language": "python",
   "name": "python3"
  },
  "language_info": {
   "codemirror_mode": {
    "name": "ipython",
    "version": 3
   },
   "file_extension": ".py",
   "mimetype": "text/x-python",
   "name": "python",
   "nbconvert_exporter": "python",
   "pygments_lexer": "ipython3",
   "version": "3.10.14"
  },
  "papermill": {
   "default_parameters": {},
   "duration": 3.322764,
   "end_time": "2024-11-21T10:26:12.958739",
   "environment_variables": {},
   "exception": null,
   "input_path": "__notebook__.ipynb",
   "output_path": "__notebook__.ipynb",
   "parameters": {},
   "start_time": "2024-11-21T10:26:09.635975",
   "version": "2.6.0"
  }
 },
 "nbformat": 4,
 "nbformat_minor": 5
}
